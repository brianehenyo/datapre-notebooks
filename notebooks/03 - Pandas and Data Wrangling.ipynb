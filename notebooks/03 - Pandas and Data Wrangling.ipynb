{
 "cells": [
  {
   "cell_type": "markdown",
   "metadata": {},
   "source": [
    "# Hands-on: `pandas` & Data Cleaning\n",
    "\n",
    "This hands-on will cover handling data using the `pandas` library.\n",
    "- Reading in data\n",
    "- Descriptive statistics\n",
    "- Data wrangling\n",
    "- Filtering\n",
    "- Aggregation\n",
    "- Merging\n",
    "\n",
    "_This notebook was derived from the Introduction to Data Science notebooks by Unisse Chua, Jude Teves and Sashmir Yap of the Data Science Institute._"
   ]
  },
  {
   "cell_type": "code",
   "execution_count": 1,
   "metadata": {},
   "outputs": [],
   "source": [
    "# all imports are placed at the top of the notebook \n",
    "# to ensure that any library needed to fully run the notebook are loaded (and installed)\n",
    "import os\n",
    "\n",
    "import pandas as pd\n",
    "import numpy as np\n",
    "\n",
    "from pathlib import Path"
   ]
  },
  {
   "cell_type": "markdown",
   "metadata": {},
   "source": [
    "### Reproducibility\n",
    "\n",
    "With data science, or any project that requires data processing and analysis, it is important to ensure that the code provided can be replicated by other members of the team. One such way is by setting up an **environment variable** that represents a central location for the data files.\n",
    "\n",
    "Steps: \n",
    "1. Create a folder in your computer to serve as the location for all the data files of your project.\n",
    "2. Save the directory path as an environment variable. The name of the variable should be the same for all team members so that everyone would simply have to use this name across their code.\n",
    "\n",
    "This folder will host **only DATA files**. Code may be kept elsewhere. The code simply needs to reference to this folder when accessing and saving data files."
   ]
  },
  {
   "cell_type": "code",
   "execution_count": 12,
   "metadata": {},
   "outputs": [
    {
     "data": {
      "text/plain": [
       "PosixPath('/Users/brianesamson/Projects/datapre-notebooks/notebooks/data')"
      ]
     },
     "execution_count": 12,
     "metadata": {},
     "output_type": "execute_result"
    }
   ],
   "source": [
    "DSDATA = Path(os.getenv('DSDATA'))\n",
    "# DSDATA = Path('/Users/brianesamson/Projects/datapre-notebooks/notebooks/data')\n",
    "DSDATA"
   ]
  },
  {
   "cell_type": "markdown",
   "metadata": {},
   "source": [
    "## Data\n",
    "\n",
    "The Philippines has an Open Data portal: https://data.gov.ph\n",
    "\n",
    "For this exercise, we'll be using the [Public Elementary School Enrollment Statistics](https://data.gov.ph/?q=dataset/public-elementary-school-enrollment-statistics) provided by the Department of Education. The page contains two files. Download both files and save them to the same folder as this notebook."
   ]
  },
  {
   "cell_type": "markdown",
   "metadata": {},
   "source": [
    "## Reading Data\n",
    "\n",
    "\"`pandas` is an open source, BSD-licensed library providing high-performance, easy-to-use data structures and data analysis tools for the Python programming language.\" - [Source](https://pandas.pydata.org/pandas-docs/stable/)\n",
    "\n",
    "Commonly used file types for published *(semi-)* structured data are **CSV (or TSV)** and sometimes even **Excel** (although this is not an 'open' format). In `pandas`, it's straightforward to read in these types of files."
   ]
  },
  {
   "cell_type": "code",
   "execution_count": null,
   "metadata": {},
   "outputs": [],
   "source": [
    "pd.read_csv?"
   ]
  },
  {
   "cell_type": "code",
   "execution_count": null,
   "metadata": {},
   "outputs": [],
   "source": [
    "pd.read_excel?"
   ]
  },
  {
   "cell_type": "code",
   "execution_count": 13,
   "metadata": {},
   "outputs": [
    {
     "data": {
      "text/html": [
       "<div>\n",
       "<style scoped>\n",
       "    .dataframe tbody tr th:only-of-type {\n",
       "        vertical-align: middle;\n",
       "    }\n",
       "\n",
       "    .dataframe tbody tr th {\n",
       "        vertical-align: top;\n",
       "    }\n",
       "\n",
       "    .dataframe thead th {\n",
       "        text-align: right;\n",
       "    }\n",
       "</style>\n",
       "<table border=\"1\" class=\"dataframe\">\n",
       "  <thead>\n",
       "    <tr style=\"text-align: right;\">\n",
       "      <th></th>\n",
       "      <th>school_id</th>\n",
       "      <th>school_name</th>\n",
       "      <th>region</th>\n",
       "      <th>province</th>\n",
       "      <th>municipality</th>\n",
       "      <th>division</th>\n",
       "      <th>district</th>\n",
       "      <th>year_level</th>\n",
       "      <th>gender</th>\n",
       "      <th>enrollment</th>\n",
       "    </tr>\n",
       "  </thead>\n",
       "  <tbody>\n",
       "    <tr>\n",
       "      <th>0</th>\n",
       "      <td>101746</td>\n",
       "      <td>A. Diaz, Sr. ES</td>\n",
       "      <td>I (Ilocos Region)</td>\n",
       "      <td>Pangasinan</td>\n",
       "      <td>Bautista</td>\n",
       "      <td>Pangasinan II, Binalonan</td>\n",
       "      <td>Bautista</td>\n",
       "      <td>grade 1</td>\n",
       "      <td>male</td>\n",
       "      <td>53</td>\n",
       "    </tr>\n",
       "    <tr>\n",
       "      <th>1</th>\n",
       "      <td>102193</td>\n",
       "      <td>A. P. Santos ES (SPED Center)</td>\n",
       "      <td>I (Ilocos Region)</td>\n",
       "      <td>Ilocos Norte</td>\n",
       "      <td>Laoag City (Capital)</td>\n",
       "      <td>Laoag City</td>\n",
       "      <td>Laoag City District II</td>\n",
       "      <td>grade 1</td>\n",
       "      <td>male</td>\n",
       "      <td>31</td>\n",
       "    </tr>\n",
       "    <tr>\n",
       "      <th>2</th>\n",
       "      <td>101283</td>\n",
       "      <td>A.P. Guevarra IS</td>\n",
       "      <td>I (Ilocos Region)</td>\n",
       "      <td>Pangasinan</td>\n",
       "      <td>Bayambang</td>\n",
       "      <td>Pangasinan I, Lingayen</td>\n",
       "      <td>Bayambang II</td>\n",
       "      <td>grade 1</td>\n",
       "      <td>male</td>\n",
       "      <td>16</td>\n",
       "    </tr>\n",
       "    <tr>\n",
       "      <th>3</th>\n",
       "      <td>100216</td>\n",
       "      <td>Ab-Abut ES</td>\n",
       "      <td>I (Ilocos Region)</td>\n",
       "      <td>Ilocos Norte</td>\n",
       "      <td>Piddig</td>\n",
       "      <td>Ilocos Norte</td>\n",
       "      <td>Piddig</td>\n",
       "      <td>grade 1</td>\n",
       "      <td>male</td>\n",
       "      <td>19</td>\n",
       "    </tr>\n",
       "    <tr>\n",
       "      <th>4</th>\n",
       "      <td>100043</td>\n",
       "      <td>Abaca ES</td>\n",
       "      <td>I (Ilocos Region)</td>\n",
       "      <td>Ilocos Norte</td>\n",
       "      <td>Bangui</td>\n",
       "      <td>Ilocos Norte</td>\n",
       "      <td>Bangui</td>\n",
       "      <td>grade 1</td>\n",
       "      <td>male</td>\n",
       "      <td>12</td>\n",
       "    </tr>\n",
       "  </tbody>\n",
       "</table>\n",
       "</div>"
      ],
      "text/plain": [
       "   school_id                    school_name             region      province  \\\n",
       "0     101746                A. Diaz, Sr. ES  I (Ilocos Region)    Pangasinan   \n",
       "1     102193  A. P. Santos ES (SPED Center)  I (Ilocos Region)  Ilocos Norte   \n",
       "2     101283               A.P. Guevarra IS  I (Ilocos Region)    Pangasinan   \n",
       "3     100216                     Ab-Abut ES  I (Ilocos Region)  Ilocos Norte   \n",
       "4     100043                       Abaca ES  I (Ilocos Region)  Ilocos Norte   \n",
       "\n",
       "           municipality                  division                district  \\\n",
       "0              Bautista  Pangasinan II, Binalonan                Bautista   \n",
       "1  Laoag City (Capital)                Laoag City  Laoag City District II   \n",
       "2             Bayambang    Pangasinan I, Lingayen            Bayambang II   \n",
       "3                Piddig              Ilocos Norte                  Piddig   \n",
       "4                Bangui              Ilocos Norte                  Bangui   \n",
       "\n",
       "  year_level gender  enrollment  \n",
       "0    grade 1   male          53  \n",
       "1    grade 1   male          31  \n",
       "2    grade 1   male          16  \n",
       "3    grade 1   male          19  \n",
       "4    grade 1   male          12  "
      ]
     },
     "execution_count": 13,
     "metadata": {},
     "output_type": "execute_result"
    }
   ],
   "source": [
    "# by default, the encoding is utf-8, but since the data has some latin characters\n",
    "# the encoding argument needs to be updated\n",
    "deped2012 = pd.read_csv(DSDATA / 'deped_publicelementaryenrollment2012.csv', encoding='latin1')\n",
    "\n",
    "# the head function provides a preview of the first 5 rows of the data\n",
    "deped2012.head()"
   ]
  },
  {
   "cell_type": "code",
   "execution_count": 14,
   "metadata": {},
   "outputs": [
    {
     "data": {
      "text/html": [
       "<div>\n",
       "<style scoped>\n",
       "    .dataframe tbody tr th:only-of-type {\n",
       "        vertical-align: middle;\n",
       "    }\n",
       "\n",
       "    .dataframe tbody tr th {\n",
       "        vertical-align: top;\n",
       "    }\n",
       "\n",
       "    .dataframe thead th {\n",
       "        text-align: right;\n",
       "    }\n",
       "</style>\n",
       "<table border=\"1\" class=\"dataframe\">\n",
       "  <thead>\n",
       "    <tr style=\"text-align: right;\">\n",
       "      <th></th>\n",
       "      <th>region</th>\n",
       "      <th>province</th>\n",
       "      <th>municipality</th>\n",
       "      <th>division</th>\n",
       "      <th>school_id</th>\n",
       "      <th>school_name</th>\n",
       "      <th>year_level</th>\n",
       "      <th>gender</th>\n",
       "      <th>enrollment</th>\n",
       "      <th>latitude</th>\n",
       "      <th>longitude</th>\n",
       "    </tr>\n",
       "  </thead>\n",
       "  <tbody>\n",
       "    <tr>\n",
       "      <th>0</th>\n",
       "      <td>Region I - Ilocos Region</td>\n",
       "      <td>Ilocos Norte</td>\n",
       "      <td>Bacarra</td>\n",
       "      <td>Ilocos Norte</td>\n",
       "      <td>100001</td>\n",
       "      <td>Apaleng-libtong ES</td>\n",
       "      <td>grade 1</td>\n",
       "      <td>male</td>\n",
       "      <td>9</td>\n",
       "      <td>18.253666</td>\n",
       "      <td>120.60618</td>\n",
       "    </tr>\n",
       "    <tr>\n",
       "      <th>1</th>\n",
       "      <td>Region I - Ilocos Region</td>\n",
       "      <td>Ilocos Norte</td>\n",
       "      <td>Bacarra</td>\n",
       "      <td>Ilocos Norte</td>\n",
       "      <td>100002</td>\n",
       "      <td>Bacarra CES</td>\n",
       "      <td>grade 1</td>\n",
       "      <td>male</td>\n",
       "      <td>41</td>\n",
       "      <td>18.25096389</td>\n",
       "      <td>120.6089583</td>\n",
       "    </tr>\n",
       "    <tr>\n",
       "      <th>2</th>\n",
       "      <td>Region I - Ilocos Region</td>\n",
       "      <td>Ilocos Norte</td>\n",
       "      <td>Bacarra</td>\n",
       "      <td>Ilocos Norte</td>\n",
       "      <td>100003</td>\n",
       "      <td>Buyon ES</td>\n",
       "      <td>grade 1</td>\n",
       "      <td>male</td>\n",
       "      <td>7</td>\n",
       "      <td>18.234599</td>\n",
       "      <td>120.616037</td>\n",
       "    </tr>\n",
       "    <tr>\n",
       "      <th>3</th>\n",
       "      <td>Region I - Ilocos Region</td>\n",
       "      <td>Ilocos Norte</td>\n",
       "      <td>Bacarra</td>\n",
       "      <td>Ilocos Norte</td>\n",
       "      <td>100004</td>\n",
       "      <td>Ganagan Elementary School</td>\n",
       "      <td>grade 1</td>\n",
       "      <td>male</td>\n",
       "      <td>8</td>\n",
       "      <td>18.25001389</td>\n",
       "      <td>120.5871694</td>\n",
       "    </tr>\n",
       "    <tr>\n",
       "      <th>4</th>\n",
       "      <td>Region I - Ilocos Region</td>\n",
       "      <td>Ilocos Norte</td>\n",
       "      <td>Bacarra</td>\n",
       "      <td>Ilocos Norte</td>\n",
       "      <td>100005</td>\n",
       "      <td>Macupit ES</td>\n",
       "      <td>grade 1</td>\n",
       "      <td>male</td>\n",
       "      <td>5</td>\n",
       "      <td>18.29399444</td>\n",
       "      <td>120.6410194</td>\n",
       "    </tr>\n",
       "  </tbody>\n",
       "</table>\n",
       "</div>"
      ],
      "text/plain": [
       "                     region      province municipality      division  \\\n",
       "0  Region I - Ilocos Region  Ilocos Norte      Bacarra  Ilocos Norte   \n",
       "1  Region I - Ilocos Region  Ilocos Norte      Bacarra  Ilocos Norte   \n",
       "2  Region I - Ilocos Region  Ilocos Norte      Bacarra  Ilocos Norte   \n",
       "3  Region I - Ilocos Region  Ilocos Norte      Bacarra  Ilocos Norte   \n",
       "4  Region I - Ilocos Region  Ilocos Norte      Bacarra  Ilocos Norte   \n",
       "\n",
       "   school_id                school_name year_level gender  enrollment  \\\n",
       "0     100001         Apaleng-libtong ES    grade 1   male           9   \n",
       "1     100002                Bacarra CES    grade 1   male          41   \n",
       "2     100003                   Buyon ES    grade 1   male           7   \n",
       "3     100004  Ganagan Elementary School    grade 1   male           8   \n",
       "4     100005                 Macupit ES    grade 1   male           5   \n",
       "\n",
       "      latitude    longitude  \n",
       "0    18.253666    120.60618  \n",
       "1  18.25096389  120.6089583  \n",
       "2    18.234599   120.616037  \n",
       "3  18.25001389  120.5871694  \n",
       "4  18.29399444  120.6410194  "
      ]
     },
     "execution_count": 14,
     "metadata": {},
     "output_type": "execute_result"
    }
   ],
   "source": [
    "# Let's read in the other file too\n",
    "deped2015 = pd.read_csv(DSDATA / 'depend_publicelementaryenrollment2015.csv', encoding='latin1')\n",
    "deped2015.head()"
   ]
  },
  {
   "cell_type": "markdown",
   "metadata": {},
   "source": [
    "### Let's begin exploring the data...\n",
    "\n",
    "* How many rows and columns do we have? \n",
    "* What is the data type of each column? \n",
    "* What is the most common value? Mean? Standard deviation?"
   ]
  },
  {
   "cell_type": "markdown",
   "metadata": {},
   "source": [
    "#### `shape`\n",
    "\n",
    "A `pandas` `DataFrame` is essentially a 2D `numpy` array. Using the `shape` attribute of the `DataFrame`, we can easily check the dimensions of the data file we read. It returns a tuple of the dimensions."
   ]
  },
  {
   "cell_type": "code",
   "execution_count": 15,
   "metadata": {},
   "outputs": [
    {
     "data": {
      "text/plain": [
       "(463908, 10)"
      ]
     },
     "execution_count": 15,
     "metadata": {},
     "output_type": "execute_result"
    }
   ],
   "source": [
    "deped2012.shape"
   ]
  },
  {
   "cell_type": "code",
   "execution_count": 16,
   "metadata": {},
   "outputs": [
    {
     "data": {
      "text/plain": [
       "(396288, 11)"
      ]
     },
     "execution_count": 16,
     "metadata": {},
     "output_type": "execute_result"
    }
   ],
   "source": [
    "deped2015.shape"
   ]
  },
  {
   "cell_type": "markdown",
   "metadata": {},
   "source": [
    "#### `dtypes` \n",
    "`dtypes` lets you check what data type each column is."
   ]
  },
  {
   "cell_type": "code",
   "execution_count": 17,
   "metadata": {},
   "outputs": [
    {
     "data": {
      "text/plain": [
       "school_id        int64\n",
       "school_name     object\n",
       "region          object\n",
       "province        object\n",
       "municipality    object\n",
       "division        object\n",
       "district        object\n",
       "year_level      object\n",
       "gender          object\n",
       "enrollment       int64\n",
       "dtype: object"
      ]
     },
     "execution_count": 17,
     "metadata": {},
     "output_type": "execute_result"
    }
   ],
   "source": [
    "deped2012.dtypes"
   ]
  },
  {
   "cell_type": "markdown",
   "metadata": {},
   "source": [
    "#### `describe()`\n",
    "`describe()` provides the basic descriptive statistics of the`DataFrame`. By default, it only includes the columns with numerical data. Non-numerical columns are omitted but there are arguments that shows the statistics related to non-numerical data."
   ]
  },
  {
   "cell_type": "code",
   "execution_count": 18,
   "metadata": {},
   "outputs": [
    {
     "data": {
      "text/html": [
       "<div>\n",
       "<style scoped>\n",
       "    .dataframe tbody tr th:only-of-type {\n",
       "        vertical-align: middle;\n",
       "    }\n",
       "\n",
       "    .dataframe tbody tr th {\n",
       "        vertical-align: top;\n",
       "    }\n",
       "\n",
       "    .dataframe thead th {\n",
       "        text-align: right;\n",
       "    }\n",
       "</style>\n",
       "<table border=\"1\" class=\"dataframe\">\n",
       "  <thead>\n",
       "    <tr style=\"text-align: right;\">\n",
       "      <th></th>\n",
       "      <th>school_id</th>\n",
       "      <th>enrollment</th>\n",
       "    </tr>\n",
       "  </thead>\n",
       "  <tbody>\n",
       "    <tr>\n",
       "      <th>count</th>\n",
       "      <td>463908.000000</td>\n",
       "      <td>463908.000000</td>\n",
       "    </tr>\n",
       "    <tr>\n",
       "      <th>mean</th>\n",
       "      <td>123102.439820</td>\n",
       "      <td>28.582152</td>\n",
       "    </tr>\n",
       "    <tr>\n",
       "      <th>std</th>\n",
       "      <td>22010.932343</td>\n",
       "      <td>44.727529</td>\n",
       "    </tr>\n",
       "    <tr>\n",
       "      <th>min</th>\n",
       "      <td>100001.000000</td>\n",
       "      <td>0.000000</td>\n",
       "    </tr>\n",
       "    <tr>\n",
       "      <th>25%</th>\n",
       "      <td>109747.000000</td>\n",
       "      <td>9.000000</td>\n",
       "    </tr>\n",
       "    <tr>\n",
       "      <th>50%</th>\n",
       "      <td>119533.000000</td>\n",
       "      <td>16.000000</td>\n",
       "    </tr>\n",
       "    <tr>\n",
       "      <th>75%</th>\n",
       "      <td>129325.000000</td>\n",
       "      <td>31.000000</td>\n",
       "    </tr>\n",
       "    <tr>\n",
       "      <th>max</th>\n",
       "      <td>261503.000000</td>\n",
       "      <td>1047.000000</td>\n",
       "    </tr>\n",
       "  </tbody>\n",
       "</table>\n",
       "</div>"
      ],
      "text/plain": [
       "           school_id     enrollment\n",
       "count  463908.000000  463908.000000\n",
       "mean   123102.439820      28.582152\n",
       "std     22010.932343      44.727529\n",
       "min    100001.000000       0.000000\n",
       "25%    109747.000000       9.000000\n",
       "50%    119533.000000      16.000000\n",
       "75%    129325.000000      31.000000\n",
       "max    261503.000000    1047.000000"
      ]
     },
     "execution_count": 18,
     "metadata": {},
     "output_type": "execute_result"
    }
   ],
   "source": [
    "deped2012.describe()"
   ]
  },
  {
   "cell_type": "code",
   "execution_count": 14,
   "metadata": {},
   "outputs": [
    {
     "data": {
      "text/html": [
       "<div>\n",
       "<style scoped>\n",
       "    .dataframe tbody tr th:only-of-type {\n",
       "        vertical-align: middle;\n",
       "    }\n",
       "\n",
       "    .dataframe tbody tr th {\n",
       "        vertical-align: top;\n",
       "    }\n",
       "\n",
       "    .dataframe thead th {\n",
       "        text-align: right;\n",
       "    }\n",
       "</style>\n",
       "<table border=\"1\" class=\"dataframe\">\n",
       "  <thead>\n",
       "    <tr style=\"text-align: right;\">\n",
       "      <th></th>\n",
       "      <th>school_name</th>\n",
       "      <th>region</th>\n",
       "      <th>province</th>\n",
       "      <th>municipality</th>\n",
       "      <th>division</th>\n",
       "      <th>district</th>\n",
       "      <th>year_level</th>\n",
       "      <th>gender</th>\n",
       "    </tr>\n",
       "  </thead>\n",
       "  <tbody>\n",
       "    <tr>\n",
       "      <th>count</th>\n",
       "      <td>463908</td>\n",
       "      <td>463908</td>\n",
       "      <td>463908</td>\n",
       "      <td>463908</td>\n",
       "      <td>463908</td>\n",
       "      <td>463908</td>\n",
       "      <td>463908</td>\n",
       "      <td>463908</td>\n",
       "    </tr>\n",
       "    <tr>\n",
       "      <th>unique</th>\n",
       "      <td>29699</td>\n",
       "      <td>17</td>\n",
       "      <td>86</td>\n",
       "      <td>1437</td>\n",
       "      <td>206</td>\n",
       "      <td>2415</td>\n",
       "      <td>6</td>\n",
       "      <td>2</td>\n",
       "    </tr>\n",
       "    <tr>\n",
       "      <th>top</th>\n",
       "      <td>San Isidro ES</td>\n",
       "      <td>VIII (Eastern Visayas)</td>\n",
       "      <td>Leyte</td>\n",
       "      <td>Davao City</td>\n",
       "      <td>Leyte</td>\n",
       "      <td>Rizal</td>\n",
       "      <td>grade 1</td>\n",
       "      <td>male</td>\n",
       "    </tr>\n",
       "    <tr>\n",
       "      <th>freq</th>\n",
       "      <td>2328</td>\n",
       "      <td>43728</td>\n",
       "      <td>15612</td>\n",
       "      <td>3420</td>\n",
       "      <td>14136</td>\n",
       "      <td>1608</td>\n",
       "      <td>77318</td>\n",
       "      <td>231954</td>\n",
       "    </tr>\n",
       "  </tbody>\n",
       "</table>\n",
       "</div>"
      ],
      "text/plain": [
       "          school_name                  region province municipality division  \\\n",
       "count          463908                  463908   463908       463908   463908   \n",
       "unique          29699                      17       86         1437      206   \n",
       "top     San Isidro ES  VIII (Eastern Visayas)    Leyte   Davao City    Leyte   \n",
       "freq             2328                   43728    15612         3420    14136   \n",
       "\n",
       "       district year_level  gender  \n",
       "count    463908     463908  463908  \n",
       "unique     2415          6       2  \n",
       "top       Rizal    grade 1    male  \n",
       "freq       1608      77318  231954  "
      ]
     },
     "execution_count": 14,
     "metadata": {},
     "output_type": "execute_result"
    }
   ],
   "source": [
    "deped2012.describe(include=np.object)"
   ]
  },
  {
   "cell_type": "markdown",
   "metadata": {},
   "source": [
    "### Data Wrangling\n",
    "\n",
    "After looking at the basic information about the data, let's see how \"clean\" the data is\n",
    "\n",
    "#### Common Data Problems (from slides)\n",
    "1. Missing values\n",
    "2. Formatting issues / data types\n",
    "3. Duplicate records\n",
    "4. Varying representation / Handle categorical values"
   ]
  },
  {
   "cell_type": "markdown",
   "metadata": {},
   "source": [
    "#### `isna()` / `isnull()`\n",
    "\n",
    "To check if there's any missing values, `pandas` provides these two functions to detect them. This actually maps each individual cell to either True or False.\n",
    "\n",
    "#### `dropna()`\n",
    "\n",
    "To remove any records with missing values, `dropna()` may be used. It has a number of arguments to help narrow down the criteria for removing the records with missing values."
   ]
  },
  {
   "cell_type": "code",
   "execution_count": 19,
   "metadata": {},
   "outputs": [
    {
     "data": {
      "text/plain": [
       "school_id       0\n",
       "school_name     0\n",
       "region          0\n",
       "province        0\n",
       "municipality    0\n",
       "division        0\n",
       "district        0\n",
       "year_level      0\n",
       "gender          0\n",
       "enrollment      0\n",
       "dtype: int64"
      ]
     },
     "execution_count": 19,
     "metadata": {},
     "output_type": "execute_result"
    }
   ],
   "source": [
    "deped2012.isna().sum()"
   ]
  },
  {
   "cell_type": "code",
   "execution_count": null,
   "metadata": {},
   "outputs": [],
   "source": [
    "deped2012.dropna?"
   ]
  },
  {
   "cell_type": "markdown",
   "metadata": {},
   "source": [
    "#### `duplicated()` --> `drop_duplicates()`\n",
    "\n",
    "The `duplicated()` function returns the duplicated rows in the `DataFrame`. It also has a number of arguments for you to specify the subset of columns. \n",
    "\n",
    "`drop_duplicates()` is the function to remove the duplicated rows found by `duplicated()`."
   ]
  },
  {
   "cell_type": "code",
   "execution_count": 21,
   "metadata": {},
   "outputs": [
    {
     "data": {
      "text/plain": [
       "0"
      ]
     },
     "execution_count": 21,
     "metadata": {},
     "output_type": "execute_result"
    }
   ],
   "source": [
    "deped2012.duplicated().sum()"
   ]
  },
  {
   "cell_type": "code",
   "execution_count": null,
   "metadata": {},
   "outputs": [],
   "source": [
    "deped2012.drop_duplicates?"
   ]
  },
  {
   "cell_type": "markdown",
   "metadata": {},
   "source": [
    "#### Varying representation\n",
    "\n",
    "For categorical or textual data, unless the options provided are fixed, misspellings and different representations may exist in the same file.\n",
    "\n",
    "To check the unique values of each column, a `pandas` `Series` has a function `unique()` which returns all the unique values of the column."
   ]
  },
  {
   "cell_type": "code",
   "execution_count": 22,
   "metadata": {},
   "outputs": [
    {
     "data": {
      "text/plain": [
       "array(['Pangasinan', 'Ilocos Norte', 'Ilocos Sur', 'La Union', 'Isabela',\n",
       "       'Nueva Vizcaya', 'Cagayan', 'Quirino', 'Batanes', 'Nueva Ecija',\n",
       "       'Bataan', 'Bulacan', 'Aurora', 'Zambales', 'Tarlac', 'Pampanga',\n",
       "       'Batangas', 'Quezon', 'Laguna', 'Rizal', 'Cavite', 'Palawan',\n",
       "       'Oriental Mindoro', 'Occidental Mindoro', 'Romblon', 'Marinduque',\n",
       "       'Camarines Sur', 'Camarines Norte', 'Masbate', 'Sorsogon', 'Albay',\n",
       "       'Catanduanes', 'Negros Occidental', 'Iloilo', 'Antique', 'Capiz',\n",
       "       'Aklan', 'Guimaras', 'Bohol', 'Negros Oriental', 'Cebu',\n",
       "       'Siquijor', 'Eastern Samar', 'Leyte', 'Western Samar',\n",
       "       'Northern Samar', 'Southern Leyte', 'Biliran', 'Zamboanga del Sur',\n",
       "       'Zamboanga Sibugay', 'Zamboanga del Norte', 'City of Isabela',\n",
       "       'Misamis Occidental', 'Lanao del Norte', 'Misamis Oriental',\n",
       "       'Bukidnon', 'Camiguin', 'Davao del Sur', 'Davao del Norte',\n",
       "       'Davao Oriental', 'Compostela Valley', 'South Cotabato',\n",
       "       'Sarangani', 'North Cotabato', 'Sultan Kudarat',\n",
       "       'City of Cotabato', 'Surigao del Sur', 'Agusan del Norte',\n",
       "       'Dinagat Islands', 'Surigao del Norte', 'Agusan del Sur',\n",
       "       'Lanao del Sur', 'Sulu', 'Tawi-Tawi', 'Basilan', 'Maguindanao',\n",
       "       'Kalinga', 'Ifugao', 'Abra', 'Mountain Province', 'Benguet',\n",
       "       'Apayao', 'NCR Second District', 'NCR Third District',\n",
       "       'NCR Fourth District', 'Manila, NCR, First District'], dtype=object)"
      ]
     },
     "execution_count": 22,
     "metadata": {},
     "output_type": "execute_result"
    }
   ],
   "source": [
    "deped2012['province'].unique()"
   ]
  },
  {
   "cell_type": "code",
   "execution_count": null,
   "metadata": {},
   "outputs": [],
   "source": [
    "deped2012['year_level'].unique()"
   ]
  },
  {
   "cell_type": "code",
   "execution_count": 32,
   "metadata": {},
   "outputs": [
    {
     "data": {
      "text/plain": [
       "array(['I (Ilocos Region)', 'II (Cagayan Valley)', 'III (Central Luzon)',\n",
       "       'IV-A (CALABARZON)', 'IV-B (MIMAROPA)', 'V (Bicol Region)',\n",
       "       'VI (Western Visayas)', 'VII (Central Visayas)',\n",
       "       'VIII (Eastern Visayas)', 'IX (Zamboanga Peninsula)',\n",
       "       'X (Northern Mindanao)', 'XI (Davao Region)', 'XII (SOCCSKSARGEN)',\n",
       "       'XIII (Caraga)', 'ARMM (Autonomous Region in Muslim Mindanao)',\n",
       "       'CAR (Cordillera Administrative Region)',\n",
       "       'NCR (National Capital Region)'], dtype=object)"
      ]
     },
     "execution_count": 32,
     "metadata": {},
     "output_type": "execute_result"
    }
   ],
   "source": [
    "deped2012['region'].unique()"
   ]
  },
  {
   "cell_type": "code",
   "execution_count": 31,
   "metadata": {},
   "outputs": [
    {
     "data": {
      "text/plain": [
       "array(['Region I - Ilocos Region', 'Region II - Cagayan Valley',\n",
       "       'Region III - Central Luzon', 'Region IV-A - CALABARZON',\n",
       "       'Region IV-B - MIMAROPA', 'Region V - Bicol Region',\n",
       "       'Region VI - Western Visayas', 'Region VII - Central Visayas',\n",
       "       'Region VIII - Eastern Visayas', 'Region IX - Zamboanga Peninsula',\n",
       "       'Region X - Northern Mindanao', 'Region XI - Davao Region',\n",
       "       'Region XII - SOCCSKSARGEN', 'CARAGA - CARAGA',\n",
       "       'ARMM - Autonomous Region in Muslim Mindanao'], dtype=object)"
      ]
     },
     "execution_count": 31,
     "metadata": {},
     "output_type": "execute_result"
    }
   ],
   "source": [
    "deped2015['region'].unique()"
   ]
  },
  {
   "cell_type": "markdown",
   "metadata": {},
   "source": [
    "### Summarizing Data\n",
    "\n",
    "High data granularity is great for a detailed analysis. However, data is usually summarized or aggregated prior to visualization. `pandas` also provides an easy way to summarize data based on the columns you'd like using the `groupby` function.\n",
    "\n",
    "We can call any of the following when grouping by columns:\n",
    "- count()\n",
    "- sum()\n",
    "- min()\n",
    "- max()\n",
    "- std()\n",
    "\n",
    "For columns that are categorical in nature, we can simply do `df['column'].value_counts()`. This will give the frequency of each unique value in the column. "
   ]
  },
  {
   "cell_type": "code",
   "execution_count": 23,
   "metadata": {},
   "outputs": [
    {
     "data": {
      "text/plain": [
       "Region VIII - Eastern Visayas                  41484\n",
       "Region VI - Western Visayas                    39204\n",
       "Region V - Bicol Region                        35892\n",
       "Region VII - Central Visayas                   33768\n",
       "Region III - Central Luzon                     33336\n",
       "Region IV-A - CALABARZON                       31452\n",
       "Region I - Ilocos Region                       27648\n",
       "Region II - Cagayan Valley                     24924\n",
       "Region IX - Zamboanga Peninsula                23724\n",
       "Region X - Northern Mindanao                   23532\n",
       "Region IV-B - MIMAROPA                         20232\n",
       "Region XI - Davao Region                       18420\n",
       "CARAGA - CARAGA                                18408\n",
       "Region XII - SOCCSKSARGEN                      18228\n",
       "ARMM - Autonomous Region in Muslim Mindanao     6036\n",
       "Name: region, dtype: int64"
      ]
     },
     "execution_count": 23,
     "metadata": {},
     "output_type": "execute_result"
    }
   ],
   "source": [
    "# pd.Series.value_counts()\n",
    "\n",
    "deped2015['region'].value_counts()"
   ]
  },
  {
   "cell_type": "code",
   "execution_count": null,
   "metadata": {},
   "outputs": [],
   "source": [
    "deped2012.groupby?"
   ]
  },
  {
   "cell_type": "markdown",
   "metadata": {},
   "source": [
    "#### Exercise! \n",
    "\n",
    "Let's try to get the following:\n",
    "1. Total number of enrolled students per region and gender\n",
    "2. Total number of enrolled students per year level and gender"
   ]
  },
  {
   "cell_type": "code",
   "execution_count": 24,
   "metadata": {},
   "outputs": [
    {
     "data": {
      "text/html": [
       "<div>\n",
       "<style scoped>\n",
       "    .dataframe tbody tr th:only-of-type {\n",
       "        vertical-align: middle;\n",
       "    }\n",
       "\n",
       "    .dataframe tbody tr th {\n",
       "        vertical-align: top;\n",
       "    }\n",
       "\n",
       "    .dataframe thead th {\n",
       "        text-align: right;\n",
       "    }\n",
       "</style>\n",
       "<table border=\"1\" class=\"dataframe\">\n",
       "  <thead>\n",
       "    <tr style=\"text-align: right;\">\n",
       "      <th></th>\n",
       "      <th>region</th>\n",
       "      <th>gender</th>\n",
       "      <th>school_id</th>\n",
       "      <th>enrollment</th>\n",
       "    </tr>\n",
       "  </thead>\n",
       "  <tbody>\n",
       "    <tr>\n",
       "      <th>0</th>\n",
       "      <td>ARMM (Autonomous Region in Muslim Mindanao)</td>\n",
       "      <td>female</td>\n",
       "      <td>1981060044</td>\n",
       "      <td>325728</td>\n",
       "    </tr>\n",
       "    <tr>\n",
       "      <th>1</th>\n",
       "      <td>ARMM (Autonomous Region in Muslim Mindanao)</td>\n",
       "      <td>male</td>\n",
       "      <td>1981060044</td>\n",
       "      <td>299438</td>\n",
       "    </tr>\n",
       "    <tr>\n",
       "      <th>2</th>\n",
       "      <td>CAR (Cordillera Administrative Region)</td>\n",
       "      <td>female</td>\n",
       "      <td>1301046546</td>\n",
       "      <td>102069</td>\n",
       "    </tr>\n",
       "    <tr>\n",
       "      <th>3</th>\n",
       "      <td>CAR (Cordillera Administrative Region)</td>\n",
       "      <td>male</td>\n",
       "      <td>1301046546</td>\n",
       "      <td>113411</td>\n",
       "    </tr>\n",
       "    <tr>\n",
       "      <th>4</th>\n",
       "      <td>I (Ilocos Region)</td>\n",
       "      <td>female</td>\n",
       "      <td>1481294424</td>\n",
       "      <td>298996</td>\n",
       "    </tr>\n",
       "    <tr>\n",
       "      <th>5</th>\n",
       "      <td>I (Ilocos Region)</td>\n",
       "      <td>male</td>\n",
       "      <td>1481294424</td>\n",
       "      <td>330234</td>\n",
       "    </tr>\n",
       "    <tr>\n",
       "      <th>6</th>\n",
       "      <td>II (Cagayan Valley)</td>\n",
       "      <td>female</td>\n",
       "      <td>1396560900</td>\n",
       "      <td>207741</td>\n",
       "    </tr>\n",
       "    <tr>\n",
       "      <th>7</th>\n",
       "      <td>II (Cagayan Valley)</td>\n",
       "      <td>male</td>\n",
       "      <td>1396560900</td>\n",
       "      <td>226833</td>\n",
       "    </tr>\n",
       "    <tr>\n",
       "      <th>8</th>\n",
       "      <td>III (Central Luzon)</td>\n",
       "      <td>female</td>\n",
       "      <td>1965169458</td>\n",
       "      <td>629770</td>\n",
       "    </tr>\n",
       "    <tr>\n",
       "      <th>9</th>\n",
       "      <td>III (Central Luzon)</td>\n",
       "      <td>male</td>\n",
       "      <td>1965169458</td>\n",
       "      <td>685337</td>\n",
       "    </tr>\n",
       "    <tr>\n",
       "      <th>10</th>\n",
       "      <td>IV-A (CALABARZON)</td>\n",
       "      <td>female</td>\n",
       "      <td>1814452494</td>\n",
       "      <td>768652</td>\n",
       "    </tr>\n",
       "    <tr>\n",
       "      <th>11</th>\n",
       "      <td>IV-A (CALABARZON)</td>\n",
       "      <td>male</td>\n",
       "      <td>1814452494</td>\n",
       "      <td>836389</td>\n",
       "    </tr>\n",
       "    <tr>\n",
       "      <th>12</th>\n",
       "      <td>IV-B (MIMAROPA)</td>\n",
       "      <td>female</td>\n",
       "      <td>1271909262</td>\n",
       "      <td>224875</td>\n",
       "    </tr>\n",
       "    <tr>\n",
       "      <th>13</th>\n",
       "      <td>IV-B (MIMAROPA)</td>\n",
       "      <td>male</td>\n",
       "      <td>1271909262</td>\n",
       "      <td>248030</td>\n",
       "    </tr>\n",
       "    <tr>\n",
       "      <th>14</th>\n",
       "      <td>IX (Zamboanga Peninsula)</td>\n",
       "      <td>female</td>\n",
       "      <td>1619836632</td>\n",
       "      <td>278387</td>\n",
       "    </tr>\n",
       "    <tr>\n",
       "      <th>15</th>\n",
       "      <td>IX (Zamboanga Peninsula)</td>\n",
       "      <td>male</td>\n",
       "      <td>1619836632</td>\n",
       "      <td>302026</td>\n",
       "    </tr>\n",
       "    <tr>\n",
       "      <th>16</th>\n",
       "      <td>NCR (National Capital Region)</td>\n",
       "      <td>female</td>\n",
       "      <td>438511446</td>\n",
       "      <td>601227</td>\n",
       "    </tr>\n",
       "    <tr>\n",
       "      <th>17</th>\n",
       "      <td>NCR (National Capital Region)</td>\n",
       "      <td>male</td>\n",
       "      <td>438511446</td>\n",
       "      <td>644892</td>\n",
       "    </tr>\n",
       "    <tr>\n",
       "      <th>18</th>\n",
       "      <td>V (Bicol Region)</td>\n",
       "      <td>female</td>\n",
       "      <td>2190420960</td>\n",
       "      <td>467493</td>\n",
       "    </tr>\n",
       "    <tr>\n",
       "      <th>19</th>\n",
       "      <td>V (Bicol Region)</td>\n",
       "      <td>male</td>\n",
       "      <td>2190420960</td>\n",
       "      <td>521294</td>\n",
       "    </tr>\n",
       "    <tr>\n",
       "      <th>20</th>\n",
       "      <td>VI (Western Visayas)</td>\n",
       "      <td>female</td>\n",
       "      <td>2419755186</td>\n",
       "      <td>491396</td>\n",
       "    </tr>\n",
       "    <tr>\n",
       "      <th>21</th>\n",
       "      <td>VI (Western Visayas)</td>\n",
       "      <td>male</td>\n",
       "      <td>2419755186</td>\n",
       "      <td>546490</td>\n",
       "    </tr>\n",
       "    <tr>\n",
       "      <th>22</th>\n",
       "      <td>VII (Central Visayas)</td>\n",
       "      <td>female</td>\n",
       "      <td>2157645486</td>\n",
       "      <td>488937</td>\n",
       "    </tr>\n",
       "    <tr>\n",
       "      <th>23</th>\n",
       "      <td>VII (Central Visayas)</td>\n",
       "      <td>male</td>\n",
       "      <td>2157645486</td>\n",
       "      <td>541420</td>\n",
       "    </tr>\n",
       "    <tr>\n",
       "      <th>24</th>\n",
       "      <td>VIII (Eastern Visayas)</td>\n",
       "      <td>female</td>\n",
       "      <td>2754627936</td>\n",
       "      <td>336485</td>\n",
       "    </tr>\n",
       "    <tr>\n",
       "      <th>25</th>\n",
       "      <td>VIII (Eastern Visayas)</td>\n",
       "      <td>male</td>\n",
       "      <td>2754627936</td>\n",
       "      <td>370882</td>\n",
       "    </tr>\n",
       "    <tr>\n",
       "      <th>26</th>\n",
       "      <td>X (Northern Mindanao)</td>\n",
       "      <td>female</td>\n",
       "      <td>1648145328</td>\n",
       "      <td>314561</td>\n",
       "    </tr>\n",
       "    <tr>\n",
       "      <th>27</th>\n",
       "      <td>X (Northern Mindanao)</td>\n",
       "      <td>male</td>\n",
       "      <td>1648145328</td>\n",
       "      <td>343111</td>\n",
       "    </tr>\n",
       "    <tr>\n",
       "      <th>28</th>\n",
       "      <td>XI (Davao Region)</td>\n",
       "      <td>female</td>\n",
       "      <td>1307008878</td>\n",
       "      <td>326488</td>\n",
       "    </tr>\n",
       "    <tr>\n",
       "      <th>29</th>\n",
       "      <td>XI (Davao Region)</td>\n",
       "      <td>male</td>\n",
       "      <td>1307008878</td>\n",
       "      <td>356601</td>\n",
       "    </tr>\n",
       "    <tr>\n",
       "      <th>30</th>\n",
       "      <td>XII (SOCCSKSARGEN)</td>\n",
       "      <td>female</td>\n",
       "      <td>1426850814</td>\n",
       "      <td>304751</td>\n",
       "    </tr>\n",
       "    <tr>\n",
       "      <th>31</th>\n",
       "      <td>XII (SOCCSKSARGEN)</td>\n",
       "      <td>male</td>\n",
       "      <td>1426850814</td>\n",
       "      <td>322966</td>\n",
       "    </tr>\n",
       "    <tr>\n",
       "      <th>32</th>\n",
       "      <td>XIII (Caraga)</td>\n",
       "      <td>female</td>\n",
       "      <td>1379807532</td>\n",
       "      <td>192611</td>\n",
       "    </tr>\n",
       "    <tr>\n",
       "      <th>33</th>\n",
       "      <td>XIII (Caraga)</td>\n",
       "      <td>male</td>\n",
       "      <td>1379807532</td>\n",
       "      <td>209968</td>\n",
       "    </tr>\n",
       "  </tbody>\n",
       "</table>\n",
       "</div>"
      ],
      "text/plain": [
       "                                         region  gender   school_id  \\\n",
       "0   ARMM (Autonomous Region in Muslim Mindanao)  female  1981060044   \n",
       "1   ARMM (Autonomous Region in Muslim Mindanao)    male  1981060044   \n",
       "2        CAR (Cordillera Administrative Region)  female  1301046546   \n",
       "3        CAR (Cordillera Administrative Region)    male  1301046546   \n",
       "4                             I (Ilocos Region)  female  1481294424   \n",
       "5                             I (Ilocos Region)    male  1481294424   \n",
       "6                           II (Cagayan Valley)  female  1396560900   \n",
       "7                           II (Cagayan Valley)    male  1396560900   \n",
       "8                           III (Central Luzon)  female  1965169458   \n",
       "9                           III (Central Luzon)    male  1965169458   \n",
       "10                            IV-A (CALABARZON)  female  1814452494   \n",
       "11                            IV-A (CALABARZON)    male  1814452494   \n",
       "12                              IV-B (MIMAROPA)  female  1271909262   \n",
       "13                              IV-B (MIMAROPA)    male  1271909262   \n",
       "14                     IX (Zamboanga Peninsula)  female  1619836632   \n",
       "15                     IX (Zamboanga Peninsula)    male  1619836632   \n",
       "16                NCR (National Capital Region)  female   438511446   \n",
       "17                NCR (National Capital Region)    male   438511446   \n",
       "18                             V (Bicol Region)  female  2190420960   \n",
       "19                             V (Bicol Region)    male  2190420960   \n",
       "20                         VI (Western Visayas)  female  2419755186   \n",
       "21                         VI (Western Visayas)    male  2419755186   \n",
       "22                        VII (Central Visayas)  female  2157645486   \n",
       "23                        VII (Central Visayas)    male  2157645486   \n",
       "24                       VIII (Eastern Visayas)  female  2754627936   \n",
       "25                       VIII (Eastern Visayas)    male  2754627936   \n",
       "26                        X (Northern Mindanao)  female  1648145328   \n",
       "27                        X (Northern Mindanao)    male  1648145328   \n",
       "28                            XI (Davao Region)  female  1307008878   \n",
       "29                            XI (Davao Region)    male  1307008878   \n",
       "30                           XII (SOCCSKSARGEN)  female  1426850814   \n",
       "31                           XII (SOCCSKSARGEN)    male  1426850814   \n",
       "32                                XIII (Caraga)  female  1379807532   \n",
       "33                                XIII (Caraga)    male  1379807532   \n",
       "\n",
       "    enrollment  \n",
       "0       325728  \n",
       "1       299438  \n",
       "2       102069  \n",
       "3       113411  \n",
       "4       298996  \n",
       "5       330234  \n",
       "6       207741  \n",
       "7       226833  \n",
       "8       629770  \n",
       "9       685337  \n",
       "10      768652  \n",
       "11      836389  \n",
       "12      224875  \n",
       "13      248030  \n",
       "14      278387  \n",
       "15      302026  \n",
       "16      601227  \n",
       "17      644892  \n",
       "18      467493  \n",
       "19      521294  \n",
       "20      491396  \n",
       "21      546490  \n",
       "22      488937  \n",
       "23      541420  \n",
       "24      336485  \n",
       "25      370882  \n",
       "26      314561  \n",
       "27      343111  \n",
       "28      326488  \n",
       "29      356601  \n",
       "30      304751  \n",
       "31      322966  \n",
       "32      192611  \n",
       "33      209968  "
      ]
     },
     "execution_count": 24,
     "metadata": {},
     "output_type": "execute_result"
    }
   ],
   "source": [
    "deped2012.groupby(['region', 'gender'], as_index=False).sum()"
   ]
  },
  {
   "cell_type": "code",
   "execution_count": null,
   "metadata": {},
   "outputs": [],
   "source": [
    "deped2012.groupby(['year_level', 'gender']).sum()"
   ]
  },
  {
   "cell_type": "markdown",
   "metadata": {},
   "source": [
    "### Merging Data\n",
    "\n",
    "Data are sometimes separated into different files or additional data from another source can be associated to another dataset. `pandas` provides means to combine different `DataFrames` together (provided that there are common variables that it can connect them to.\n",
    "\n",
    "#### `pd.merge`\n",
    "`merge()` is very similar to database-style joins. `pandas` allows merging of `DataFrame` and **named** `Series` objects together. A join can be done along columns or indexes.\n",
    "\n",
    "#### `pd.concat`\n",
    "`concat()` on the other hand combines `pandas` objects along a specific axis.\n",
    "\n",
    "#### `df.append`\n",
    "`append()` basically adds the rows of another `DataFrame` or `Series` to the end of the caller. "
   ]
  },
  {
   "cell_type": "code",
   "execution_count": null,
   "metadata": {},
   "outputs": [],
   "source": [
    "pd.merge?"
   ]
  },
  {
   "cell_type": "code",
   "execution_count": null,
   "metadata": {},
   "outputs": [],
   "source": [
    "pd.concat?"
   ]
  },
  {
   "cell_type": "code",
   "execution_count": null,
   "metadata": {},
   "outputs": [],
   "source": [
    "deped2012.append?"
   ]
  },
  {
   "cell_type": "markdown",
   "metadata": {},
   "source": [
    "#### Exercise\n",
    "\n",
    "The task is to compare the enrollment statistics of the elementary schools between 2012 and 2015. \n",
    "\n",
    "1. Get the total number of enrolled students per school for each year\n",
    "2. Merge the two `DataFrame`s together to show the summarized statistics for the two years for all schools."
   ]
  },
  {
   "cell_type": "code",
   "execution_count": null,
   "metadata": {},
   "outputs": [],
   "source": [
    "stats2012 = deped2012.groupby('school_id', as_index=False).sum()\n",
    "stats2015 = deped2015.groupby('school_id', as_index=False).sum()"
   ]
  },
  {
   "cell_type": "code",
   "execution_count": 41,
   "metadata": {},
   "outputs": [
    {
     "data": {
      "text/html": [
       "<div>\n",
       "<style scoped>\n",
       "    .dataframe tbody tr th:only-of-type {\n",
       "        vertical-align: middle;\n",
       "    }\n",
       "\n",
       "    .dataframe tbody tr th {\n",
       "        vertical-align: top;\n",
       "    }\n",
       "\n",
       "    .dataframe thead th {\n",
       "        text-align: right;\n",
       "    }\n",
       "</style>\n",
       "<table border=\"1\" class=\"dataframe\">\n",
       "  <thead>\n",
       "    <tr style=\"text-align: right;\">\n",
       "      <th></th>\n",
       "      <th>school_id</th>\n",
       "      <th>enrollment</th>\n",
       "    </tr>\n",
       "  </thead>\n",
       "  <tbody>\n",
       "    <tr>\n",
       "      <th>0</th>\n",
       "      <td>100001</td>\n",
       "      <td>72</td>\n",
       "    </tr>\n",
       "    <tr>\n",
       "      <th>1</th>\n",
       "      <td>100002</td>\n",
       "      <td>365</td>\n",
       "    </tr>\n",
       "    <tr>\n",
       "      <th>2</th>\n",
       "      <td>100003</td>\n",
       "      <td>138</td>\n",
       "    </tr>\n",
       "    <tr>\n",
       "      <th>3</th>\n",
       "      <td>100004</td>\n",
       "      <td>89</td>\n",
       "    </tr>\n",
       "    <tr>\n",
       "      <th>4</th>\n",
       "      <td>100005</td>\n",
       "      <td>73</td>\n",
       "    </tr>\n",
       "  </tbody>\n",
       "</table>\n",
       "</div>"
      ],
      "text/plain": [
       "   school_id  enrollment\n",
       "0     100001          72\n",
       "1     100002         365\n",
       "2     100003         138\n",
       "3     100004          89\n",
       "4     100005          73"
      ]
     },
     "execution_count": 41,
     "metadata": {},
     "output_type": "execute_result"
    }
   ],
   "source": [
    "stats2012.head()"
   ]
  },
  {
   "cell_type": "code",
   "execution_count": null,
   "metadata": {},
   "outputs": [],
   "source": [
    "stats2012.shape"
   ]
  },
  {
   "cell_type": "code",
   "execution_count": 42,
   "metadata": {},
   "outputs": [
    {
     "data": {
      "text/html": [
       "<div>\n",
       "<style scoped>\n",
       "    .dataframe tbody tr th:only-of-type {\n",
       "        vertical-align: middle;\n",
       "    }\n",
       "\n",
       "    .dataframe tbody tr th {\n",
       "        vertical-align: top;\n",
       "    }\n",
       "\n",
       "    .dataframe thead th {\n",
       "        text-align: right;\n",
       "    }\n",
       "</style>\n",
       "<table border=\"1\" class=\"dataframe\">\n",
       "  <thead>\n",
       "    <tr style=\"text-align: right;\">\n",
       "      <th></th>\n",
       "      <th>school_id</th>\n",
       "      <th>enrollment</th>\n",
       "    </tr>\n",
       "  </thead>\n",
       "  <tbody>\n",
       "    <tr>\n",
       "      <th>0</th>\n",
       "      <td>100001</td>\n",
       "      <td>72</td>\n",
       "    </tr>\n",
       "    <tr>\n",
       "      <th>1</th>\n",
       "      <td>100002</td>\n",
       "      <td>407</td>\n",
       "    </tr>\n",
       "    <tr>\n",
       "      <th>2</th>\n",
       "      <td>100003</td>\n",
       "      <td>152</td>\n",
       "    </tr>\n",
       "    <tr>\n",
       "      <th>3</th>\n",
       "      <td>100004</td>\n",
       "      <td>107</td>\n",
       "    </tr>\n",
       "    <tr>\n",
       "      <th>4</th>\n",
       "      <td>100005</td>\n",
       "      <td>67</td>\n",
       "    </tr>\n",
       "  </tbody>\n",
       "</table>\n",
       "</div>"
      ],
      "text/plain": [
       "   school_id  enrollment\n",
       "0     100001          72\n",
       "1     100002         407\n",
       "2     100003         152\n",
       "3     100004         107\n",
       "4     100005          67"
      ]
     },
     "execution_count": 42,
     "metadata": {},
     "output_type": "execute_result"
    }
   ],
   "source": [
    "stats2015.head()"
   ]
  },
  {
   "cell_type": "code",
   "execution_count": null,
   "metadata": {},
   "outputs": [],
   "source": [
    "stats2015.shape"
   ]
  },
  {
   "cell_type": "markdown",
   "metadata": {},
   "source": [
    "#### Observations\n",
    "\n",
    "1. Are the number of rows for both `DataFrames` the same or different? What's the implication if they're different?\n",
    "2. Note the same column names for the two `DataFrames`. Based on the documentation for `merge()`, there's a parameter for suffixes for overlapping column names. If we want to avoid the \"messy\" suffixes, we can choose to rename columns prior to merging."
   ]
  },
  {
   "cell_type": "markdown",
   "metadata": {},
   "source": [
    "One way is to assign an array to the columns object representing the column names for ALL columns.\n",
    "\n",
    "```ipython\n",
    "stats2012.columns = ['school_id', '2012']\n",
    "stats2015.columns = ['school_id', '2015']\n",
    "```\n",
    "\n",
    "But this is not good if you have too many columns... `pandas` has a function `rename()` in which we can pass a \"mappable\" dictionary for the columns. The `inplace` parameter helps in renaming it and assigns the changed `DataFrame` back to the same variable.\n",
    "\n",
    "```ipython\n",
    "stats2012.rename(columns={'enrollment': '2012'}, inplace=True)\n",
    "stats2015.rename(columns={'enrollment': '2015'}, inplace=True)\n",
    "```"
   ]
  },
  {
   "cell_type": "code",
   "execution_count": null,
   "metadata": {},
   "outputs": [],
   "source": [
    "# try the code above"
   ]
  },
  {
   "cell_type": "code",
   "execution_count": null,
   "metadata": {},
   "outputs": [],
   "source": [
    "## Merge the two dataframes using different \"how\" parameters\n",
    "# how : {'left', 'right', 'outer', 'inner'}, default 'inner'"
   ]
  },
  {
   "cell_type": "code",
   "execution_count": null,
   "metadata": {},
   "outputs": [],
   "source": []
  }
 ],
 "metadata": {
  "kernelspec": {
   "display_name": "Python 3",
   "language": "python",
   "name": "python3"
  },
  "language_info": {
   "codemirror_mode": {
    "name": "ipython",
    "version": 3
   },
   "file_extension": ".py",
   "mimetype": "text/x-python",
   "name": "python",
   "nbconvert_exporter": "python",
   "pygments_lexer": "ipython3",
   "version": "3.7.6"
  }
 },
 "nbformat": 4,
 "nbformat_minor": 4
}
